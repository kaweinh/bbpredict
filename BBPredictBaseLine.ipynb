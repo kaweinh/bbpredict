{
 "cells": [
  {
   "cell_type": "code",
   "execution_count": 19,
   "metadata": {},
   "outputs": [],
   "source": [
    "import pandas as pd\n",
    "import numpy as np"
   ]
  },
  {
   "cell_type": "code",
   "execution_count": 20,
   "metadata": {},
   "outputs": [
    {
     "name": "stderr",
     "output_type": "stream",
     "text": [
      "//anaconda3/lib/python3.7/site-packages/IPython/core/interactiveshell.py:3057: DtypeWarning: Columns (27) have mixed types. Specify dtype option on import or set low_memory=False.\n",
      "  interactivity=interactivity, compiler=compiler, result=result)\n"
     ]
    },
    {
     "name": "stdout",
     "output_type": "stream",
     "text": [
      "Index(['EmployeeID', 'TermSourceKey', 'TermKey', 'StudentKey', 'HighSchoolGPA',\n",
      "       'SATMathScore', 'SATReadingWritingScore', 'SATMathOldScore',\n",
      "       'SATWritingOldScore', 'SATReadingOldScore', 'ACTCompositeScore',\n",
      "       'SourceAge', 'GenderDescription', 'EthnicityDescription',\n",
      "       'MajorDescription', 'MilitaryStatusKey', 'FirstGenerationKey',\n",
      "       'CumulativeTransferCredits', 'TransferGPA', 'CumulativeGPA',\n",
      "       'CumulativeCreditsAttempted', 'CumulativeCreditsEarned',\n",
      "       'AcademicLevelDescription', 'AcademicLoadTuitionDescription',\n",
      "       'PellEligibilityIndicatorKey', 'Course', 'CourseLevel', 'Section',\n",
      "       'Grade', 'PrevTermCreditsAttempted', 'PrevTermCreditsEarned',\n",
      "       'PrevTermGPA', 'PrevMaxGrade', 'PrevMinGrade', 'CourseSize'],\n",
      "      dtype='object')\n"
     ]
    }
   ],
   "source": [
    "sis_df = pd.read_csv('SISData.csv')\n",
    "course_size_df = pd.read_csv('CourseSize.csv')\n",
    "\n",
    "df = pd.merge(sis_df, course_size_df, on=['TermSourceKey', 'Course'])\n",
    "print(df.columns)"
   ]
  },
  {
   "cell_type": "code",
   "execution_count": 21,
   "metadata": {},
   "outputs": [],
   "source": [
    "top_dfw = pd.read_excel(\"DFW_100_Sp19.xlsx\")\n",
    "top_dfw_classes = top_dfw.Course.tolist()\n",
    "\n",
    "df['Top100DFW'] = df.Course.isin(top_dfw_classes).astype(int)"
   ]
  },
  {
   "cell_type": "code",
   "execution_count": 22,
   "metadata": {},
   "outputs": [
    {
     "name": "stdout",
     "output_type": "stream",
     "text": [
      "Index(['EmployeeID', 'TermSourceKey', 'TermKey', 'StudentKey', 'HighSchoolGPA',\n",
      "       'SATMathScore', 'SATReadingWritingScore', 'SATMathOldScore',\n",
      "       'SATWritingOldScore', 'SATReadingOldScore', 'ACTCompositeScore',\n",
      "       'SourceAge', 'MajorDescription', 'MilitaryStatusKey',\n",
      "       'CumulativeTransferCredits', 'TransferGPA', 'CumulativeGPA',\n",
      "       'CumulativeCreditsAttempted', 'CumulativeCreditsEarned', 'Course',\n",
      "       'CourseLevel', 'Section', 'Grade', 'PrevTermCreditsAttempted',\n",
      "       'PrevTermCreditsEarned', 'PrevTermGPA', 'PrevMaxGrade', 'PrevMinGrade',\n",
      "       'CourseSize', 'Top100DFW', 'Gender_Female', 'Gender_Male',\n",
      "       'Gender_Unknown', 'Ethnicity_American Indian/Alaska Native',\n",
      "       'Ethnicity_Asian', 'Ethnicity_Black/African American',\n",
      "       'Ethnicity_Hispanic/Latino',\n",
      "       'Ethnicity_Native Hawaiian/Other Pacific Islander',\n",
      "       'Ethnicity_Not Specified', 'Ethnicity_Two or More', 'Ethnicity_Unknown',\n",
      "       'Ethnicity_White', 'First_Gen_-1', 'First_Gen_1', 'First_Gen_2',\n",
      "       'Pell_Eligible_-1', 'Pell_Eligible_1', 'Load_Enrolled Full-Time',\n",
      "       'Load_Enrolled Half-Time', 'Load_Less than Half-Time',\n",
      "       'Load_No Unit Load', 'Load_Three Quarter Time',\n",
      "       'Academic_Level_Freshman', 'Academic_Level_Junior',\n",
      "       'Academic_Level_Senior', 'Academic_Level_Sophomore'],\n",
      "      dtype='object')\n"
     ]
    }
   ],
   "source": [
    "df = pd.concat([df.drop('GenderDescription', axis=1), pd.get_dummies(df['GenderDescription'], prefix='Gender')], axis=1)\n",
    "df = pd.concat([df.drop('EthnicityDescription', axis=1), pd.get_dummies(df['EthnicityDescription'], prefix='Ethnicity')], axis=1)\n",
    "df = pd.concat([df.drop('FirstGenerationKey', axis=1), pd.get_dummies(df['FirstGenerationKey'], prefix='First_Gen')], axis=1)\n",
    "df = pd.concat([df.drop('PellEligibilityIndicatorKey', axis=1), pd.get_dummies(df['PellEligibilityIndicatorKey'], prefix='Pell_Eligible')], axis=1)\n",
    "df = pd.concat([df.drop('AcademicLoadTuitionDescription', axis=1), pd.get_dummies(df['AcademicLoadTuitionDescription'], prefix='Load')], axis=1)\n",
    "df = pd.concat([df.drop('AcademicLevelDescription', axis=1), pd.get_dummies(df['AcademicLevelDescription'], prefix='Academic_Level')], axis=1)\n",
    "\n",
    "print(df.columns)"
   ]
  },
  {
   "cell_type": "code",
   "execution_count": 23,
   "metadata": {},
   "outputs": [
    {
     "data": {
      "text/plain": [
       "1    231369\n",
       "0     29878\n",
       "Name: Has_Major, dtype: int64"
      ]
     },
     "execution_count": 23,
     "metadata": {},
     "output_type": "execute_result"
    }
   ],
   "source": [
    "df['Has_Major'] = (df.MajorDescription.str.contains('BS')) | (df.MajorDescription.str.contains('BA')) | (df.MajorDescription.str.contains('BFA'))\n",
    "df['Has_Major'] = df.Has_Major.astype(int)\n",
    "\n",
    "df.Has_Major.value_counts()"
   ]
  },
  {
   "cell_type": "code",
   "execution_count": 24,
   "metadata": {},
   "outputs": [
    {
     "data": {
      "text/plain": [
       "0    220401\n",
       "1     40846\n",
       "Name: In_Military, dtype: int64"
      ]
     },
     "execution_count": 24,
     "metadata": {},
     "output_type": "execute_result"
    }
   ],
   "source": [
    "df['In_Military'] = (df.MilitaryStatusKey != -1)\n",
    "df['In_Military'] = df.In_Military.astype(int)\n",
    "\n",
    "df.In_Military.value_counts()"
   ]
  },
  {
   "cell_type": "code",
   "execution_count": 25,
   "metadata": {},
   "outputs": [],
   "source": [
    "df['CareerCreditCompletionPerc'] = df.CumulativeCreditsEarned / df.CumulativeCreditsAttempted\n",
    "df['CareerFailedCredits'] = df.CumulativeCreditsAttempted - df.CumulativeCreditsEarned\n",
    "df['PrevTermCreditsCompletionPerc'] = df.PrevTermCreditsEarned / df.PrevTermCreditsAttempted\n",
    "df['PrevTermFailedCredits'] = df.PrevTermCreditsAttempted - df.PrevTermCreditsEarned"
   ]
  },
  {
   "cell_type": "code",
   "execution_count": 26,
   "metadata": {},
   "outputs": [
    {
     "data": {
      "text/plain": [
       "0    224770\n",
       "1     36477\n",
       "Name: Failed_Class, dtype: int64"
      ]
     },
     "execution_count": 26,
     "metadata": {},
     "output_type": "execute_result"
    }
   ],
   "source": [
    "df['Failed_Class'] = (df.Grade == 'D') | (df.Grade == 'F') | (df.Grade == 'W')\n",
    "df['Failed_Class'] = df.Failed_Class.astype(int)\n",
    "\n",
    "df.Failed_Class.value_counts()"
   ]
  },
  {
   "cell_type": "code",
   "execution_count": 27,
   "metadata": {},
   "outputs": [
    {
     "name": "stdout",
     "output_type": "stream",
     "text": [
      "HighSchoolGPA                                       float64\n",
      "SATMathScore                                        float64\n",
      "SATReadingWritingScore                              float64\n",
      "SATMathOldScore                                     float64\n",
      "SATWritingOldScore                                  float64\n",
      "SATReadingOldScore                                  float64\n",
      "ACTCompositeScore                                   float64\n",
      "SourceAge                                             int64\n",
      "CumulativeTransferCredits                           float64\n",
      "TransferGPA                                         float64\n",
      "CumulativeGPA                                       float64\n",
      "CumulativeCreditsAttempted                          float64\n",
      "CourseLevel                                           int64\n",
      "PrevTermCreditsAttempted                            float64\n",
      "PrevTermGPA                                         float64\n",
      "PrevMaxGrade                                        float64\n",
      "PrevMinGrade                                        float64\n",
      "CourseSize                                            int64\n",
      "Top100DFW                                             int64\n",
      "Gender_Female                                         uint8\n",
      "Gender_Male                                           uint8\n",
      "Gender_Unknown                                        uint8\n",
      "Ethnicity_American Indian/Alaska Native               uint8\n",
      "Ethnicity_Asian                                       uint8\n",
      "Ethnicity_Black/African American                      uint8\n",
      "Ethnicity_Hispanic/Latino                             uint8\n",
      "Ethnicity_Native Hawaiian/Other Pacific Islander      uint8\n",
      "Ethnicity_Not Specified                               uint8\n",
      "Ethnicity_Two or More                                 uint8\n",
      "Ethnicity_Unknown                                     uint8\n",
      "Ethnicity_White                                       uint8\n",
      "First_Gen_-1                                          uint8\n",
      "First_Gen_1                                           uint8\n",
      "First_Gen_2                                           uint8\n",
      "Pell_Eligible_-1                                      uint8\n",
      "Pell_Eligible_1                                       uint8\n",
      "Load_Enrolled Full-Time                               uint8\n",
      "Load_Enrolled Half-Time                               uint8\n",
      "Load_Less than Half-Time                              uint8\n",
      "Load_No Unit Load                                     uint8\n",
      "Load_Three Quarter Time                               uint8\n",
      "Academic_Level_Freshman                               uint8\n",
      "Academic_Level_Junior                                 uint8\n",
      "Academic_Level_Senior                                 uint8\n",
      "Academic_Level_Sophomore                              uint8\n",
      "Has_Major                                             int64\n",
      "In_Military                                           int64\n",
      "CareerCreditCompletionPerc                          float64\n",
      "CareerFailedCredits                                 float64\n",
      "PrevTermCreditsCompletionPerc                       float64\n",
      "PrevTermFailedCredits                               float64\n",
      "Failed_Class                                          int64\n",
      "dtype: object\n"
     ]
    }
   ],
   "source": [
    "df = df.drop(['EmployeeID', 'TermSourceKey', 'TermKey', 'StudentKey' ,'MajorDescription', \n",
    "            'MilitaryStatusKey', 'CumulativeCreditsEarned', 'Course', 'Section',  \n",
    "            'PrevTermCreditsEarned', 'Grade'], axis=1)\n",
    "\n",
    "print(df.dtypes)"
   ]
  },
  {
   "cell_type": "code",
   "execution_count": 28,
   "metadata": {},
   "outputs": [],
   "source": [
    "df = df.fillna(0)"
   ]
  },
  {
   "cell_type": "code",
   "execution_count": 29,
   "metadata": {},
   "outputs": [],
   "source": [
    "from sklearn.model_selection import train_test_split\n",
    "from sklearn.metrics import accuracy_score, recall_score, precision_score, f1_score, roc_auc_score\n",
    "\n",
    "Y = df['Failed_Class'] #13.9% = 0\n",
    "X = df.drop(['Failed_Class'], axis=1)\n",
    "\n",
    "#86.037% not failed\n",
    "X_train, X_test, y_train, y_test = train_test_split(X, Y, test_size=0.2, random_state=0)\n",
    "\n",
    "def evaluate_model(y_test, predictions):\n",
    "    # evaluate predictions\n",
    "    accuracy = accuracy_score(y_test, predictions)\n",
    "    print(\"Accuracy: %.2f%%\" % (accuracy * 100.0))\n",
    "\n",
    "    recall = recall_score(y_test, predictions)\n",
    "    print(\"Recall: %.2f%%\" % (recall * 100.0))\n",
    "\n",
    "    precision = precision_score(y_test, predictions)\n",
    "    print(\"Precision: %.2f%%\" % (precision * 100.0))\n",
    "\n",
    "    f1 = f1_score(y_test, predictions)\n",
    "    print(\"F1 Score: %.2f\" % f1)\n"
   ]
  },
  {
   "cell_type": "code",
   "execution_count": 108,
   "metadata": {},
   "outputs": [
    {
     "name": "stderr",
     "output_type": "stream",
     "text": [
      "//anaconda3/lib/python3.7/site-packages/sklearn/linear_model/logistic.py:432: FutureWarning: Default solver will be changed to 'lbfgs' in 0.22. Specify a solver to silence this warning.\n",
      "  FutureWarning)\n"
     ]
    },
    {
     "name": "stdout",
     "output_type": "stream",
     "text": [
      "Accuracy: 86.29%\n",
      "Recall: 12.89%\n",
      "Precision: 56.05%\n",
      "F1 Score: 0.21\n",
      "ROC AUC: 0.56\n"
     ]
    }
   ],
   "source": [
    "from sklearn.linear_model import LogisticRegression\n",
    "\n",
    "log_reg = LogisticRegression(random_state=0).fit(X_train, y_train)\n",
    "\n",
    "y_pred = log_reg.predict(X_test)\n",
    "predictions = [round(value) for value in y_pred]\n",
    "\n",
    "evaluate_model(y_test, predictions)"
   ]
  },
  {
   "cell_type": "code",
   "execution_count": 13,
   "metadata": {},
   "outputs": [
    {
     "name": "stdout",
     "output_type": "stream",
     "text": [
      "Accuracy: 87.11%\n",
      "Recall: 38.46%\n",
      "Precision: 56.27%\n",
      "F1 Score: 0.46\n",
      "ROC AUC: 0.67\n"
     ]
    }
   ],
   "source": [
    "from sklearn.neighbors import KNeighborsClassifier\n",
    "\n",
    "knn = KNeighborsClassifier(n_neighbors=3).fit(X_train, y_train)\n",
    "\n",
    "y_pred = knn.predict(X_test)\n",
    "knn_predictions = [round(value) for value in y_pred]\n",
    "\n",
    "evaluate_model(y_test, knn_predictions)"
   ]
  },
  {
   "cell_type": "code",
   "execution_count": 30,
   "metadata": {},
   "outputs": [
    {
     "name": "stderr",
     "output_type": "stream",
     "text": [
      "//anaconda3/lib/python3.7/site-packages/sklearn/ensemble/forest.py:245: FutureWarning: The default value of n_estimators will change from 10 in version 0.20 to 100 in 0.22.\n",
      "  \"10 in version 0.20 to 100 in 0.22.\", FutureWarning)\n"
     ]
    },
    {
     "name": "stdout",
     "output_type": "stream",
     "text": [
      "Accuracy: 87.70%\n",
      "Recall: 35.57%\n",
      "Precision: 60.95%\n",
      "F1 Score: 0.45\n",
      "ROC AUC: 0.8200015829317722\n"
     ]
    }
   ],
   "source": [
    "from sklearn.ensemble import RandomForestClassifier\n",
    "\n",
    "rf = RandomForestClassifier(random_state=0).fit(X_train, y_train)\n",
    "\n",
    "y_pred = rf.predict(X_test)\n",
    "predictions = [round(value) for value in y_pred]\n",
    "\n",
    "evaluate_model(y_test, predictions)\n",
    "\n",
    "probs = rf.predict_proba(X_test)[:, 1]\n",
    "print(\"ROC AUC:\", roc_auc_score(y_test, probs))"
   ]
  },
  {
   "cell_type": "code",
   "execution_count": 14,
   "metadata": {},
   "outputs": [
    {
     "data": {
      "image/png": "[encoded data removed]",
      "text/plain": [
       "<Figure size 432x288 with 1 Axes>"
      ]
     },
     "metadata": {
      "needs_background": "light"
     },
     "output_type": "display_data"
    }
   ],
   "source": [
    "from sklearn.metrics import roc_curve\n",
    "import matplotlib.pyplot as plt\n",
    "%matplotlib inline\n",
    "\n",
    "ns_probs = [0 for _ in range(len(y_test))]\n",
    "# predict probabilities\n",
    "rf_probs = rf.predict_proba(X_test)\n",
    "# keep probabilities for the positive outcome only\n",
    "rf_probs = rf_probs[:, 1]\n",
    "\n",
    "# calculate roc curves\n",
    "ns_fpr, ns_tpr, _ = roc_curve(y_test, ns_probs)\n",
    "rf_fpr, rf_tpr, _ = roc_curve(y_test, rf_probs)\n",
    "# plot the roc curve for the model\n",
    "plt.plot(ns_fpr, ns_tpr, linestyle='--', label='No Skill')\n",
    "plt.plot(rf_fpr, rf_tpr, marker='.', label='Logistic')\n",
    "# axis labels\n",
    "plt.xlabel('False Positive Rate')\n",
    "plt.ylabel('True Positive Rate')\n",
    "# show the legend\n",
    "plt.legend()\n",
    "# show the plot\n",
    "plt.show()"
   ]
  },
  {
   "cell_type": "code",
   "execution_count": 15,
   "metadata": {},
   "outputs": [
    {
     "data": {
      "text/html": [
       "<div>\n",
       "<style scoped>\n",
       "    .dataframe tbody tr th:only-of-type {\n",
       "        vertical-align: middle;\n",
       "    }\n",
       "\n",
       "    .dataframe tbody tr th {\n",
       "        vertical-align: top;\n",
       "    }\n",
       "\n",
       "    .dataframe thead th {\n",
       "        text-align: right;\n",
       "    }\n",
       "</style>\n",
       "<table border=\"1\" class=\"dataframe\">\n",
       "  <thead>\n",
       "    <tr style=\"text-align: right;\">\n",
       "      <th></th>\n",
       "      <th>importance</th>\n",
       "    </tr>\n",
       "  </thead>\n",
       "  <tbody>\n",
       "    <tr>\n",
       "      <th>CourseSize</th>\n",
       "      <td>0.204903</td>\n",
       "    </tr>\n",
       "    <tr>\n",
       "      <th>PrevTermGPA</th>\n",
       "      <td>0.081850</td>\n",
       "    </tr>\n",
       "    <tr>\n",
       "      <th>CumulativeGPA</th>\n",
       "      <td>0.075067</td>\n",
       "    </tr>\n",
       "    <tr>\n",
       "      <th>CourseLevel</th>\n",
       "      <td>0.059680</td>\n",
       "    </tr>\n",
       "    <tr>\n",
       "      <th>CareerCreditCompletionPerc</th>\n",
       "      <td>0.052071</td>\n",
       "    </tr>\n",
       "    <tr>\n",
       "      <th>CareerFailedCredits</th>\n",
       "      <td>0.046507</td>\n",
       "    </tr>\n",
       "    <tr>\n",
       "      <th>CumulativeCreditsAttempted</th>\n",
       "      <td>0.044767</td>\n",
       "    </tr>\n",
       "    <tr>\n",
       "      <th>HighSchoolGPA</th>\n",
       "      <td>0.034102</td>\n",
       "    </tr>\n",
       "    <tr>\n",
       "      <th>PrevTermCreditsAttempted</th>\n",
       "      <td>0.031167</td>\n",
       "    </tr>\n",
       "    <tr>\n",
       "      <th>PrevTermCreditsCompletionPerc</th>\n",
       "      <td>0.029105</td>\n",
       "    </tr>\n",
       "    <tr>\n",
       "      <th>CumulativeTransferCredits</th>\n",
       "      <td>0.026798</td>\n",
       "    </tr>\n",
       "    <tr>\n",
       "      <th>SourceAge</th>\n",
       "      <td>0.025271</td>\n",
       "    </tr>\n",
       "    <tr>\n",
       "      <th>SATMathOldScore</th>\n",
       "      <td>0.023010</td>\n",
       "    </tr>\n",
       "    <tr>\n",
       "      <th>TransferGPA</th>\n",
       "      <td>0.022931</td>\n",
       "    </tr>\n",
       "    <tr>\n",
       "      <th>SATReadingOldScore</th>\n",
       "      <td>0.022633</td>\n",
       "    </tr>\n",
       "    <tr>\n",
       "      <th>SATWritingOldScore</th>\n",
       "      <td>0.021795</td>\n",
       "    </tr>\n",
       "    <tr>\n",
       "      <th>PrevMinGrade</th>\n",
       "      <td>0.021404</td>\n",
       "    </tr>\n",
       "    <tr>\n",
       "      <th>PrevTermFailedCredits</th>\n",
       "      <td>0.019753</td>\n",
       "    </tr>\n",
       "    <tr>\n",
       "      <th>PrevMaxGrade</th>\n",
       "      <td>0.013897</td>\n",
       "    </tr>\n",
       "    <tr>\n",
       "      <th>ACTCompositeScore</th>\n",
       "      <td>0.011264</td>\n",
       "    </tr>\n",
       "    <tr>\n",
       "      <th>SATMathScore</th>\n",
       "      <td>0.010416</td>\n",
       "    </tr>\n",
       "    <tr>\n",
       "      <th>SATReadingWritingScore</th>\n",
       "      <td>0.009825</td>\n",
       "    </tr>\n",
       "    <tr>\n",
       "      <th>Ethnicity_White</th>\n",
       "      <td>0.007275</td>\n",
       "    </tr>\n",
       "    <tr>\n",
       "      <th>First_Gen_1</th>\n",
       "      <td>0.006960</td>\n",
       "    </tr>\n",
       "    <tr>\n",
       "      <th>Ethnicity_Black/African American</th>\n",
       "      <td>0.006946</td>\n",
       "    </tr>\n",
       "    <tr>\n",
       "      <th>Gender_Female</th>\n",
       "      <td>0.006944</td>\n",
       "    </tr>\n",
       "    <tr>\n",
       "      <th>Ethnicity_Asian</th>\n",
       "      <td>0.006766</td>\n",
       "    </tr>\n",
       "    <tr>\n",
       "      <th>First_Gen_2</th>\n",
       "      <td>0.006754</td>\n",
       "    </tr>\n",
       "    <tr>\n",
       "      <th>Gender_Male</th>\n",
       "      <td>0.006730</td>\n",
       "    </tr>\n",
       "    <tr>\n",
       "      <th>Pell_Eligible_1</th>\n",
       "      <td>0.006416</td>\n",
       "    </tr>\n",
       "    <tr>\n",
       "      <th>Pell_Eligible_-1</th>\n",
       "      <td>0.006359</td>\n",
       "    </tr>\n",
       "    <tr>\n",
       "      <th>Academic_Level_Junior</th>\n",
       "      <td>0.005871</td>\n",
       "    </tr>\n",
       "    <tr>\n",
       "      <th>Academic_Level_Sophomore</th>\n",
       "      <td>0.005304</td>\n",
       "    </tr>\n",
       "    <tr>\n",
       "      <th>In_Military</th>\n",
       "      <td>0.005079</td>\n",
       "    </tr>\n",
       "    <tr>\n",
       "      <th>Has_Major</th>\n",
       "      <td>0.004628</td>\n",
       "    </tr>\n",
       "    <tr>\n",
       "      <th>Academic_Level_Senior</th>\n",
       "      <td>0.004562</td>\n",
       "    </tr>\n",
       "    <tr>\n",
       "      <th>Ethnicity_Hispanic/Latino</th>\n",
       "      <td>0.004333</td>\n",
       "    </tr>\n",
       "    <tr>\n",
       "      <th>Ethnicity_Two or More</th>\n",
       "      <td>0.003369</td>\n",
       "    </tr>\n",
       "    <tr>\n",
       "      <th>First_Gen_-1</th>\n",
       "      <td>0.002931</td>\n",
       "    </tr>\n",
       "    <tr>\n",
       "      <th>Load_Enrolled Full-Time</th>\n",
       "      <td>0.002876</td>\n",
       "    </tr>\n",
       "    <tr>\n",
       "      <th>Load_Three Quarter Time</th>\n",
       "      <td>0.002779</td>\n",
       "    </tr>\n",
       "    <tr>\n",
       "      <th>Academic_Level_Freshman</th>\n",
       "      <td>0.002742</td>\n",
       "    </tr>\n",
       "    <tr>\n",
       "      <th>Ethnicity_Not Specified</th>\n",
       "      <td>0.002555</td>\n",
       "    </tr>\n",
       "    <tr>\n",
       "      <th>Load_Enrolled Half-Time</th>\n",
       "      <td>0.002087</td>\n",
       "    </tr>\n",
       "    <tr>\n",
       "      <th>Load_Less than Half-Time</th>\n",
       "      <td>0.000672</td>\n",
       "    </tr>\n",
       "    <tr>\n",
       "      <th>Ethnicity_American Indian/Alaska Native</th>\n",
       "      <td>0.000426</td>\n",
       "    </tr>\n",
       "    <tr>\n",
       "      <th>Ethnicity_Native Hawaiian/Other Pacific Islander</th>\n",
       "      <td>0.000209</td>\n",
       "    </tr>\n",
       "    <tr>\n",
       "      <th>Load_No Unit Load</th>\n",
       "      <td>0.000102</td>\n",
       "    </tr>\n",
       "    <tr>\n",
       "      <th>Ethnicity_Unknown</th>\n",
       "      <td>0.000074</td>\n",
       "    </tr>\n",
       "    <tr>\n",
       "      <th>Gender_Unknown</th>\n",
       "      <td>0.000035</td>\n",
       "    </tr>\n",
       "  </tbody>\n",
       "</table>\n",
       "</div>"
      ],
      "text/plain": [
       "                                                  importance\n",
       "CourseSize                                          0.204903\n",
       "PrevTermGPA                                         0.081850\n",
       "CumulativeGPA                                       0.075067\n",
       "CourseLevel                                         0.059680\n",
       "CareerCreditCompletionPerc                          0.052071\n",
       "CareerFailedCredits                                 0.046507\n",
       "CumulativeCreditsAttempted                          0.044767\n",
       "HighSchoolGPA                                       0.034102\n",
       "PrevTermCreditsAttempted                            0.031167\n",
       "PrevTermCreditsCompletionPerc                       0.029105\n",
       "CumulativeTransferCredits                           0.026798\n",
       "SourceAge                                           0.025271\n",
       "SATMathOldScore                                     0.023010\n",
       "TransferGPA                                         0.022931\n",
       "SATReadingOldScore                                  0.022633\n",
       "SATWritingOldScore                                  0.021795\n",
       "PrevMinGrade                                        0.021404\n",
       "PrevTermFailedCredits                               0.019753\n",
       "PrevMaxGrade                                        0.013897\n",
       "ACTCompositeScore                                   0.011264\n",
       "SATMathScore                                        0.010416\n",
       "SATReadingWritingScore                              0.009825\n",
       "Ethnicity_White                                     0.007275\n",
       "First_Gen_1                                         0.006960\n",
       "Ethnicity_Black/African American                    0.006946\n",
       "Gender_Female                                       0.006944\n",
       "Ethnicity_Asian                                     0.006766\n",
       "First_Gen_2                                         0.006754\n",
       "Gender_Male                                         0.006730\n",
       "Pell_Eligible_1                                     0.006416\n",
       "Pell_Eligible_-1                                    0.006359\n",
       "Academic_Level_Junior                               0.005871\n",
       "Academic_Level_Sophomore                            0.005304\n",
       "In_Military                                         0.005079\n",
       "Has_Major                                           0.004628\n",
       "Academic_Level_Senior                               0.004562\n",
       "Ethnicity_Hispanic/Latino                           0.004333\n",
       "Ethnicity_Two or More                               0.003369\n",
       "First_Gen_-1                                        0.002931\n",
       "Load_Enrolled Full-Time                             0.002876\n",
       "Load_Three Quarter Time                             0.002779\n",
       "Academic_Level_Freshman                             0.002742\n",
       "Ethnicity_Not Specified                             0.002555\n",
       "Load_Enrolled Half-Time                             0.002087\n",
       "Load_Less than Half-Time                            0.000672\n",
       "Ethnicity_American Indian/Alaska Native             0.000426\n",
       "Ethnicity_Native Hawaiian/Other Pacific Islander    0.000209\n",
       "Load_No Unit Load                                   0.000102\n",
       "Ethnicity_Unknown                                   0.000074\n",
       "Gender_Unknown                                      0.000035"
      ]
     },
     "execution_count": 15,
     "metadata": {},
     "output_type": "execute_result"
    }
   ],
   "source": [
    "feature_importances = pd.DataFrame(rf.feature_importances_, index = X_train.columns, \n",
    "                                   columns=['importance']).sort_values('importance', ascending=False)\n",
    "feature_importances"
   ]
  },
  {
   "cell_type": "code",
   "execution_count": 111,
   "metadata": {},
   "outputs": [
    {
     "name": "stdout",
     "output_type": "stream",
     "text": [
      "Accuracy: 86.63%\n",
      "Recall: 12.86%\n",
      "Precision: 62.74%\n",
      "F1 Score: 0.21\n",
      "ROC AUC: 0.56\n"
     ]
    }
   ],
   "source": [
    "import xgboost as xgb\n",
    "from sklearn.metrics import accuracy_score\n",
    "\n",
    "xgb_class = xgb.XGBClassifier().fit(X_train, y_train)\n",
    "\n",
    "y_pred = xgb_class.predict(X_test)\n",
    "predictions = [round(value) for value in y_pred]\n",
    "\n",
    "evaluate_model(y_test, predictions)"
   ]
  },
  {
   "cell_type": "code",
   "execution_count": 112,
   "metadata": {},
   "outputs": [
    {
     "data": {
      "image/png": "[encoded data removed]",
      "text/plain": [
       "<Figure size 576x1440 with 1 Axes>"
      ]
     },
     "metadata": {
      "needs_background": "light"
     },
     "output_type": "display_data"
    }
   ],
   "source": [
    "import matplotlib.pyplot as plt\n",
    "%matplotlib inline\n",
    "\n",
    "# Producing a dataframe of feature importances\n",
    "ft_weights_xgb_reg = pd.DataFrame(xgb_class.feature_importances_, columns=['weight'], index=X_train.columns)\n",
    "ft_weights_xgb_reg.sort_values('weight', inplace=True)\n",
    "\n",
    "# Plotting feature importances\n",
    "plt.figure(figsize=(8,20))\n",
    "plt.barh(ft_weights_xgb_reg.index, ft_weights_xgb_reg.weight, align='center') \n",
    "plt.title(\"Feature importances in the XGBoost model\", fontsize=14)\n",
    "plt.xlabel(\"Feature importance\")\n",
    "plt.margins(y=0.01)\n",
    "plt.show()"
   ]
  },
  {
   "cell_type": "code",
   "execution_count": 19,
   "metadata": {},
   "outputs": [
    {
     "name": "stdout",
     "output_type": "stream",
     "text": [
      "Train on 208997 samples, validate on 52250 samples\n",
      "Epoch 1/15\n",
      "208997/208997 [==============================] - 5s 25us/step - loss: 0.5834 - acc: 0.8578 - val_loss: 0.3744 - val_acc: 0.8610\n",
      "Epoch 2/15\n",
      "208997/208997 [==============================] - 5s 24us/step - loss: 0.3710 - acc: 0.8613 - val_loss: 0.3588 - val_acc: 0.8607\n",
      "Epoch 3/15\n",
      "208997/208997 [==============================] - 5s 24us/step - loss: 0.3662 - acc: 0.8614 - val_loss: 0.3561 - val_acc: 0.8601\n",
      "Epoch 4/15\n",
      "208997/208997 [==============================] - 5s 24us/step - loss: 0.3657 - acc: 0.8614 - val_loss: 0.3626 - val_acc: 0.8608\n",
      "Epoch 5/15\n",
      "208997/208997 [==============================] - 5s 25us/step - loss: 0.3649 - acc: 0.8614 - val_loss: 0.3619 - val_acc: 0.8592\n",
      "Epoch 6/15\n",
      "208997/208997 [==============================] - 5s 26us/step - loss: 0.3647 - acc: 0.8619 - val_loss: 0.3586 - val_acc: 0.8590\n",
      "Epoch 7/15\n",
      "208997/208997 [==============================] - 5s 25us/step - loss: 0.3650 - acc: 0.8613 - val_loss: 0.3572 - val_acc: 0.8602\n",
      "Epoch 8/15\n",
      "208997/208997 [==============================] - 6s 26us/step - loss: 0.3633 - acc: 0.8616 - val_loss: 0.3553 - val_acc: 0.8590\n",
      "Epoch 9/15\n",
      "208997/208997 [==============================] - 5s 25us/step - loss: 0.3631 - acc: 0.8615 - val_loss: 0.3563 - val_acc: 0.8596\n",
      "Epoch 10/15\n",
      "208997/208997 [==============================] - 5s 25us/step - loss: 0.3632 - acc: 0.8618 - val_loss: 0.3564 - val_acc: 0.8594\n",
      "Epoch 11/15\n",
      "208997/208997 [==============================] - 5s 25us/step - loss: 0.3638 - acc: 0.8612 - val_loss: 0.3569 - val_acc: 0.8596\n",
      "Epoch 12/15\n",
      "208997/208997 [==============================] - 5s 25us/step - loss: 0.3633 - acc: 0.8612 - val_loss: 0.3638 - val_acc: 0.8607\n",
      "Epoch 13/15\n",
      "208997/208997 [==============================] - 5s 26us/step - loss: 0.3634 - acc: 0.8613 - val_loss: 0.3579 - val_acc: 0.8599\n",
      "Epoch 14/15\n",
      "208997/208997 [==============================] - 5s 26us/step - loss: 0.3633 - acc: 0.8615 - val_loss: 0.3550 - val_acc: 0.8594\n",
      "Epoch 15/15\n",
      "208997/208997 [==============================] - 5s 25us/step - loss: 0.3632 - acc: 0.8616 - val_loss: 0.3659 - val_acc: 0.8590\n"
     ]
    }
   ],
   "source": [
    "from tensorflow import keras\n",
    "import matplotlib.pyplot as plt\n",
    "from keras import models\n",
    "from keras import layers\n",
    "from keras import regularizers\n",
    "\n",
    "neural = models.Sequential()\n",
    "neural.add(layers.Dense(50, activation='relu', input_shape=(50,), kernel_regularizer=regularizers.l2(0.01)))\n",
    "neural.add(layers.Dropout(0.5))\n",
    "neural.add(layers.Dense(25, activation='relu', kernel_regularizer=regularizers.l2(0.01)))\n",
    "neural.add(layers.Dropout(0.5))\n",
    "neural.add(layers.Dense(10, activation='relu'))\n",
    "neural.add(layers.Dense(1))\n",
    "\n",
    "neural.compile(loss='binary_crossentropy', optimizer='adam', metrics=['acc'])\n",
    "\n",
    "history = neural.fit(X_train, y_train, batch_size=64, epochs=15, validation_data=(X_test, y_test))"
   ]
  },
  {
   "cell_type": "code",
   "execution_count": 51,
   "metadata": {},
   "outputs": [
    {
     "name": "stdout",
     "output_type": "stream",
     "text": [
      "Accuracy: 86.23%\n",
      "Recall: 10.71%\n",
      "Precision: 56.28%\n",
      "F1 Score: 0.18\n",
      "ROC AUC: 0.55\n"
     ]
    }
   ],
   "source": [
    "nn_predictions = neural.predict(X_test)\n",
    "predictions = nn_predictions.copy()\n",
    "\n",
    "predictions[nn_predictions >= 0.3] = 1\n",
    "predictions[nn_predictions < 0.3] = 0\n",
    "\n",
    "evaluate_model(y_test, predictions)"
   ]
  },
  {
   "cell_type": "code",
   "execution_count": 97,
   "metadata": {},
   "outputs": [
    {
     "name": "stdout",
     "output_type": "stream",
     "text": [
      "[2.80999729 2.87503759 2.95543055 ... 2.57157906 2.61643539 2.83205096]\n",
      "Accuracy: 87.71%\n",
      "Recall: 27.97%\n",
      "Precision: 64.93%\n",
      "F1 Score: 0.39\n",
      "ROC AUC: 0.63\n"
     ]
    }
   ],
   "source": [
    "rf_predictions = np.asarray(rf.predict_proba(X_test))\n",
    "xgb_predictions = np.asarray(xgb_class.predict_proba(X_test))\n",
    "lr_predictions = np.asarray(log_reg.predict_proba(X_test))\n",
    "\n",
    "#nn_predictions = neural.predict(X_test)\n",
    "#nn_predictions = nn_predictions[:, 0]\n",
    "\n",
    "predictions = rf_predictions + xgb_predictions + lr_predictions\n",
    "\n",
    "predictions = predictions [:, 0]\n",
    "\n",
    "predictions[predictions <= 1.7] = 1\n",
    "predictions[predictions > 1.7] = 0\n",
    "\n",
    "evaluate_model(y_test, predictions)"
   ]
  },
  {
   "cell_type": "code",
   "execution_count": null,
   "metadata": {},
   "outputs": [],
   "source": []
  }
 ],
 "metadata": {
  "kernelspec": {
   "display_name": "Python 3",
   "language": "python",
   "name": "python3"
  },
  "language_info": {
   "codemirror_mode": {
    "name": "ipython",
    "version": 3
   },
   "file_extension": ".py",
   "mimetype": "text/x-python",
   "name": "python",
   "nbconvert_exporter": "python",
   "pygments_lexer": "ipython3",
   "version": "3.7.3"
  }
 },
 "nbformat": 4,
 "nbformat_minor": 2
}
